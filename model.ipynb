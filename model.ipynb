{
 "cells": [
  {
   "cell_type": "code",
   "execution_count": 26,
   "id": "495f40ad",
   "metadata": {},
   "outputs": [],
   "source": [
    "from sklearn.model_selection import train_test_split\n",
    "import pandas as pd"
   ]
  },
  {
   "cell_type": "code",
   "execution_count": 27,
   "id": "7d36bdae",
   "metadata": {},
   "outputs": [],
   "source": [
    "df_encoded = pd.read_csv('Thyroid_Diff_Encoded.csv')"
   ]
  },
  {
   "cell_type": "code",
   "execution_count": 28,
   "id": "7d0dad50",
   "metadata": {},
   "outputs": [
    {
     "data": {
      "application/vnd.microsoft.datawrangler.viewer.v0+json": {
       "columns": [
        {
         "name": "index",
         "rawType": "object",
         "type": "string"
        },
        {
         "name": "0",
         "rawType": "int64",
         "type": "integer"
        }
       ],
       "ref": "32b72c03-f935-44d8-add4-b89b39bd3107",
       "rows": [
        [
         "Age",
         "0"
        ],
        [
         "Gender",
         "0"
        ],
        [
         "Smoking",
         "0"
        ],
        [
         "Hx Smoking",
         "0"
        ],
        [
         "Hx Radiothreapy",
         "0"
        ],
        [
         "Focality",
         "0"
        ],
        [
         "Risk",
         "0"
        ],
        [
         "Response",
         "0"
        ],
        [
         "Recurred",
         "0"
        ],
        [
         "Thyroid Function_Clinical Hypothyroidism",
         "0"
        ],
        [
         "Thyroid Function_Euthyroid",
         "0"
        ],
        [
         "Thyroid Function_Subclinical Hyperthyroidism",
         "0"
        ],
        [
         "Thyroid Function_Subclinical Hypothyroidism",
         "0"
        ],
        [
         "Physical Examination_Multinodular goiter",
         "0"
        ],
        [
         "Physical Examination_Normal",
         "0"
        ],
        [
         "Physical Examination_Single nodular goiter-left",
         "0"
        ],
        [
         "Physical Examination_Single nodular goiter-right",
         "0"
        ],
        [
         "Adenopathy_Extensive",
         "0"
        ],
        [
         "Adenopathy_Left",
         "0"
        ],
        [
         "Adenopathy_No",
         "0"
        ],
        [
         "Adenopathy_Posterior",
         "0"
        ],
        [
         "Adenopathy_Right",
         "0"
        ],
        [
         "Pathology_Hurthel cell",
         "0"
        ],
        [
         "Pathology_Micropapillary",
         "0"
        ],
        [
         "Pathology_Papillary",
         "0"
        ],
        [
         "T_T1b",
         "0"
        ],
        [
         "T_T2",
         "0"
        ],
        [
         "T_T3a",
         "0"
        ],
        [
         "T_T3b",
         "0"
        ],
        [
         "T_T4a",
         "0"
        ],
        [
         "T_T4b",
         "0"
        ],
        [
         "N_N1a",
         "0"
        ],
        [
         "N_N1b",
         "0"
        ],
        [
         "M_M1",
         "0"
        ],
        [
         "Stage_II",
         "0"
        ],
        [
         "Stage_III",
         "0"
        ],
        [
         "Stage_IVA",
         "0"
        ],
        [
         "Stage_IVB",
         "0"
        ]
       ],
       "shape": {
        "columns": 1,
        "rows": 38
       }
      },
      "text/plain": [
       "Age                                                 0\n",
       "Gender                                              0\n",
       "Smoking                                             0\n",
       "Hx Smoking                                          0\n",
       "Hx Radiothreapy                                     0\n",
       "Focality                                            0\n",
       "Risk                                                0\n",
       "Response                                            0\n",
       "Recurred                                            0\n",
       "Thyroid Function_Clinical Hypothyroidism            0\n",
       "Thyroid Function_Euthyroid                          0\n",
       "Thyroid Function_Subclinical Hyperthyroidism        0\n",
       "Thyroid Function_Subclinical Hypothyroidism         0\n",
       "Physical Examination_Multinodular goiter            0\n",
       "Physical Examination_Normal                         0\n",
       "Physical Examination_Single nodular goiter-left     0\n",
       "Physical Examination_Single nodular goiter-right    0\n",
       "Adenopathy_Extensive                                0\n",
       "Adenopathy_Left                                     0\n",
       "Adenopathy_No                                       0\n",
       "Adenopathy_Posterior                                0\n",
       "Adenopathy_Right                                    0\n",
       "Pathology_Hurthel cell                              0\n",
       "Pathology_Micropapillary                            0\n",
       "Pathology_Papillary                                 0\n",
       "T_T1b                                               0\n",
       "T_T2                                                0\n",
       "T_T3a                                               0\n",
       "T_T3b                                               0\n",
       "T_T4a                                               0\n",
       "T_T4b                                               0\n",
       "N_N1a                                               0\n",
       "N_N1b                                               0\n",
       "M_M1                                                0\n",
       "Stage_II                                            0\n",
       "Stage_III                                           0\n",
       "Stage_IVA                                           0\n",
       "Stage_IVB                                           0\n",
       "dtype: int64"
      ]
     },
     "execution_count": 28,
     "metadata": {},
     "output_type": "execute_result"
    }
   ],
   "source": [
    "df_encoded.isnull().sum()"
   ]
  },
  {
   "cell_type": "code",
   "execution_count": 29,
   "id": "093112d1",
   "metadata": {},
   "outputs": [],
   "source": [
    "X = df_encoded.drop('Recurred', axis=1) \n",
    "y = df_encoded['Recurred'] "
   ]
  },
  {
   "cell_type": "code",
   "execution_count": 42,
   "id": "c922a513",
   "metadata": {},
   "outputs": [],
   "source": [
    "X_train, X_test, y_train, y_test = train_test_split(\n",
    "    X, y,\n",
    "    test_size=0.10,\n",
    "    random_state=42,\n",
    "    stratify=y  \n",
    ")"
   ]
  },
  {
   "cell_type": "code",
   "execution_count": 43,
   "id": "9c4d90bb",
   "metadata": {},
   "outputs": [
    {
     "name": "stdout",
     "output_type": "stream",
     "text": [
      "Eğitim seti boyutu: (344, 37)\n",
      "Test seti boyutu: (39, 37)\n",
      "\n",
      "Eğitim setindeki 'Recurred' dağılımı:\n",
      "Recurred\n",
      "0    0.718023\n",
      "1    0.281977\n",
      "Name: proportion, dtype: float64\n",
      "\n",
      "Test setindeki 'Recurred' dağılımı:\n",
      "Recurred\n",
      "0    0.717949\n",
      "1    0.282051\n",
      "Name: proportion, dtype: float64\n"
     ]
    }
   ],
   "source": [
    "print(f\"Eğitim seti boyutu: {X_train.shape}\")\n",
    "print(f\"Test seti boyutu: {X_test.shape}\")\n",
    "print(f\"\\nEğitim setindeki 'Recurred' dağılımı:\\n{y_train.value_counts(normalize=True)}\")\n",
    "print(f\"\\nTest setindeki 'Recurred' dağılımı:\\n{y_test.value_counts(normalize=True)}\")"
   ]
  },
  {
   "cell_type": "code",
   "execution_count": 44,
   "id": "dbaf7ea1",
   "metadata": {},
   "outputs": [],
   "source": [
    "from imblearn.over_sampling import SMOTE"
   ]
  },
  {
   "cell_type": "code",
   "execution_count": 45,
   "id": "d8d9c7c9",
   "metadata": {},
   "outputs": [],
   "source": [
    "smote = SMOTE(random_state=42)"
   ]
  },
  {
   "cell_type": "code",
   "execution_count": 46,
   "id": "a2409397",
   "metadata": {},
   "outputs": [
    {
     "name": "stdout",
     "output_type": "stream",
     "text": [
      "\n",
      "--- SMOTE Öncesi Eğitim Verisi Dağılımı ---\n",
      "Recurred\n",
      "0    247\n",
      "1     97\n",
      "Name: count, dtype: int64\n"
     ]
    }
   ],
   "source": [
    "print(\"\\n--- SMOTE Öncesi Eğitim Verisi Dağılımı ---\")\n",
    "print(y_train.value_counts())"
   ]
  },
  {
   "cell_type": "code",
   "execution_count": 47,
   "id": "94581843",
   "metadata": {},
   "outputs": [
    {
     "data": {
      "text/plain": [
       "np.int64(0)"
      ]
     },
     "execution_count": 47,
     "metadata": {},
     "output_type": "execute_result"
    }
   ],
   "source": [
    "y_train.isnull().sum()  # Null değer kontrolü"
   ]
  },
  {
   "cell_type": "code",
   "execution_count": 48,
   "id": "f750e20b",
   "metadata": {},
   "outputs": [
    {
     "data": {
      "application/vnd.microsoft.datawrangler.viewer.v0+json": {
       "columns": [
        {
         "name": "index",
         "rawType": "object",
         "type": "string"
        },
        {
         "name": "0",
         "rawType": "int64",
         "type": "integer"
        }
       ],
       "ref": "21c7da2a-e23a-4989-9484-899f979456c6",
       "rows": [
        [
         "Age",
         "0"
        ],
        [
         "Gender",
         "0"
        ],
        [
         "Smoking",
         "0"
        ],
        [
         "Hx Smoking",
         "0"
        ],
        [
         "Hx Radiothreapy",
         "0"
        ],
        [
         "Focality",
         "0"
        ],
        [
         "Risk",
         "0"
        ],
        [
         "Response",
         "0"
        ],
        [
         "Thyroid Function_Clinical Hypothyroidism",
         "0"
        ],
        [
         "Thyroid Function_Euthyroid",
         "0"
        ],
        [
         "Thyroid Function_Subclinical Hyperthyroidism",
         "0"
        ],
        [
         "Thyroid Function_Subclinical Hypothyroidism",
         "0"
        ],
        [
         "Physical Examination_Multinodular goiter",
         "0"
        ],
        [
         "Physical Examination_Normal",
         "0"
        ],
        [
         "Physical Examination_Single nodular goiter-left",
         "0"
        ],
        [
         "Physical Examination_Single nodular goiter-right",
         "0"
        ],
        [
         "Adenopathy_Extensive",
         "0"
        ],
        [
         "Adenopathy_Left",
         "0"
        ],
        [
         "Adenopathy_No",
         "0"
        ],
        [
         "Adenopathy_Posterior",
         "0"
        ],
        [
         "Adenopathy_Right",
         "0"
        ],
        [
         "Pathology_Hurthel cell",
         "0"
        ],
        [
         "Pathology_Micropapillary",
         "0"
        ],
        [
         "Pathology_Papillary",
         "0"
        ],
        [
         "T_T1b",
         "0"
        ],
        [
         "T_T2",
         "0"
        ],
        [
         "T_T3a",
         "0"
        ],
        [
         "T_T3b",
         "0"
        ],
        [
         "T_T4a",
         "0"
        ],
        [
         "T_T4b",
         "0"
        ],
        [
         "N_N1a",
         "0"
        ],
        [
         "N_N1b",
         "0"
        ],
        [
         "M_M1",
         "0"
        ],
        [
         "Stage_II",
         "0"
        ],
        [
         "Stage_III",
         "0"
        ],
        [
         "Stage_IVA",
         "0"
        ],
        [
         "Stage_IVB",
         "0"
        ]
       ],
       "shape": {
        "columns": 1,
        "rows": 37
       }
      },
      "text/plain": [
       "Age                                                 0\n",
       "Gender                                              0\n",
       "Smoking                                             0\n",
       "Hx Smoking                                          0\n",
       "Hx Radiothreapy                                     0\n",
       "Focality                                            0\n",
       "Risk                                                0\n",
       "Response                                            0\n",
       "Thyroid Function_Clinical Hypothyroidism            0\n",
       "Thyroid Function_Euthyroid                          0\n",
       "Thyroid Function_Subclinical Hyperthyroidism        0\n",
       "Thyroid Function_Subclinical Hypothyroidism         0\n",
       "Physical Examination_Multinodular goiter            0\n",
       "Physical Examination_Normal                         0\n",
       "Physical Examination_Single nodular goiter-left     0\n",
       "Physical Examination_Single nodular goiter-right    0\n",
       "Adenopathy_Extensive                                0\n",
       "Adenopathy_Left                                     0\n",
       "Adenopathy_No                                       0\n",
       "Adenopathy_Posterior                                0\n",
       "Adenopathy_Right                                    0\n",
       "Pathology_Hurthel cell                              0\n",
       "Pathology_Micropapillary                            0\n",
       "Pathology_Papillary                                 0\n",
       "T_T1b                                               0\n",
       "T_T2                                                0\n",
       "T_T3a                                               0\n",
       "T_T3b                                               0\n",
       "T_T4a                                               0\n",
       "T_T4b                                               0\n",
       "N_N1a                                               0\n",
       "N_N1b                                               0\n",
       "M_M1                                                0\n",
       "Stage_II                                            0\n",
       "Stage_III                                           0\n",
       "Stage_IVA                                           0\n",
       "Stage_IVB                                           0\n",
       "dtype: int64"
      ]
     },
     "execution_count": 48,
     "metadata": {},
     "output_type": "execute_result"
    }
   ],
   "source": [
    "X_train.isnull().sum()  # Null değer kontrolü"
   ]
  },
  {
   "cell_type": "code",
   "execution_count": 49,
   "id": "165262ef",
   "metadata": {},
   "outputs": [],
   "source": [
    "X_train_resampled, y_train_resampled = smote.fit_resample(X_train, y_train)"
   ]
  },
  {
   "cell_type": "code",
   "execution_count": 50,
   "id": "348fa7ad",
   "metadata": {},
   "outputs": [
    {
     "name": "stdout",
     "output_type": "stream",
     "text": [
      "\n",
      "--- SMOTE Sonrası Eğitim Verisi Dağılımı ---\n",
      "Recurred\n",
      "0    247\n",
      "1    247\n",
      "Name: count, dtype: int64\n"
     ]
    }
   ],
   "source": [
    "print(\"\\n--- SMOTE Sonrası Eğitim Verisi Dağılımı ---\")\n",
    "print(y_train_resampled.value_counts())"
   ]
  },
  {
   "cell_type": "code",
   "execution_count": 51,
   "id": "54f32a9f",
   "metadata": {},
   "outputs": [],
   "source": [
    "from sklearn.preprocessing import StandardScaler"
   ]
  },
  {
   "cell_type": "code",
   "execution_count": 52,
   "id": "d7a74bfc",
   "metadata": {},
   "outputs": [],
   "source": [
    "scaler = StandardScaler()\n",
    "\n",
    "# 1. Scaler'ı SADECE dengelenmiş eğitim verisi üzerinde eğit ve uygula\n",
    "X_train_scaled = scaler.fit_transform(X_train_resampled)\n",
    "\n",
    "# 2. Aynı scaler'ı test verisine SADECE uygula (tekrar eğitme!)\n",
    "X_test_scaled = scaler.transform(X_test)"
   ]
  },
  {
   "cell_type": "code",
   "execution_count": 53,
   "id": "b91852e5",
   "metadata": {},
   "outputs": [
    {
     "name": "stdout",
     "output_type": "stream",
     "text": [
      "\n",
      "--- Model Performansı ---\n",
      "Accuracy Score: 1.0\n",
      "\n",
      "Classification Report:\n",
      "              precision    recall  f1-score   support\n",
      "\n",
      "           0       1.00      1.00      1.00        28\n",
      "           1       1.00      1.00      1.00        11\n",
      "\n",
      "    accuracy                           1.00        39\n",
      "   macro avg       1.00      1.00      1.00        39\n",
      "weighted avg       1.00      1.00      1.00        39\n",
      "\n"
     ]
    }
   ],
   "source": [
    "from sklearn.ensemble import RandomForestClassifier\n",
    "from sklearn.metrics import classification_report, accuracy_score\n",
    "\n",
    "# 1. Modeli Seç ve Kur\n",
    "model = RandomForestClassifier(random_state=42, n_estimators=100) # 100 ağaçlı bir orman\n",
    "\n",
    "# 2. Modeli Eğit\n",
    "# Hazırladığımız, dengelenmiş ve ölçeklenmiş eğitim verisini kullanıyoruz.\n",
    "model.fit(X_train_scaled, y_train_resampled)\n",
    "\n",
    "# 3. Modeli Test Et\n",
    "# Eğitilmiş modeli, daha önce hiç görmediği test verisiyle test ediyoruz.\n",
    "y_pred = model.predict(X_test_scaled)\n",
    "\n",
    "# 4. Sonuçları Değerlendir\n",
    "print(\"\\n--- Model Performansı ---\")\n",
    "print(\"Accuracy Score:\", accuracy_score(y_test, y_pred))\n",
    "print(\"\\nClassification Report:\")\n",
    "print(classification_report(y_test, y_pred))"
   ]
  },
  {
   "cell_type": "code",
   "execution_count": null,
   "id": "37fbc39e",
   "metadata": {},
   "outputs": [],
   "source": []
  }
 ],
 "metadata": {
  "kernelspec": {
   "display_name": "Python 3",
   "language": "python",
   "name": "python3"
  },
  "language_info": {
   "codemirror_mode": {
    "name": "ipython",
    "version": 3
   },
   "file_extension": ".py",
   "mimetype": "text/x-python",
   "name": "python",
   "nbconvert_exporter": "python",
   "pygments_lexer": "ipython3",
   "version": "3.12.8"
  }
 },
 "nbformat": 4,
 "nbformat_minor": 5
}
