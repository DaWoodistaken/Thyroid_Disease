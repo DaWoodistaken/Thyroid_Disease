{
 "cells": [
  {
   "cell_type": "code",
   "execution_count": 31,
   "id": "355a8ffb",
   "metadata": {},
   "outputs": [],
   "source": [
    "import pandas as pd\n",
    "import numpy as np"
   ]
  },
  {
   "cell_type": "code",
   "execution_count": 32,
   "id": "92bd0954",
   "metadata": {},
   "outputs": [],
   "source": [
    "df = pd.read_csv('Thyroid_Diff.csv')"
   ]
  },
  {
   "cell_type": "code",
   "execution_count": 45,
   "id": "b1345da4",
   "metadata": {},
   "outputs": [
    {
     "data": {
      "application/vnd.microsoft.datawrangler.viewer.v0+json": {
       "columns": [
        {
         "name": "index",
         "rawType": "int64",
         "type": "integer"
        },
        {
         "name": "Age",
         "rawType": "int64",
         "type": "integer"
        },
        {
         "name": "Gender",
         "rawType": "object",
         "type": "string"
        },
        {
         "name": "Smoking",
         "rawType": "object",
         "type": "string"
        },
        {
         "name": "Hx Smoking",
         "rawType": "object",
         "type": "string"
        },
        {
         "name": "Hx Radiothreapy",
         "rawType": "object",
         "type": "string"
        },
        {
         "name": "Thyroid Function",
         "rawType": "object",
         "type": "string"
        },
        {
         "name": "Physical Examination",
         "rawType": "object",
         "type": "string"
        },
        {
         "name": "Adenopathy",
         "rawType": "object",
         "type": "string"
        },
        {
         "name": "Pathology",
         "rawType": "object",
         "type": "string"
        },
        {
         "name": "Focality",
         "rawType": "object",
         "type": "string"
        },
        {
         "name": "Risk",
         "rawType": "object",
         "type": "string"
        },
        {
         "name": "T",
         "rawType": "object",
         "type": "string"
        },
        {
         "name": "N",
         "rawType": "object",
         "type": "string"
        },
        {
         "name": "M",
         "rawType": "object",
         "type": "string"
        },
        {
         "name": "Stage",
         "rawType": "object",
         "type": "string"
        },
        {
         "name": "Response",
         "rawType": "object",
         "type": "string"
        },
        {
         "name": "Recurred",
         "rawType": "object",
         "type": "string"
        }
       ],
       "ref": "e5883042-6434-40ea-b28e-76a96aec8646",
       "rows": [
        [
         "0",
         "27",
         "F",
         "No",
         "No",
         "No",
         "Euthyroid",
         "Single nodular goiter-left",
         "No",
         "Micropapillary",
         "Uni-Focal",
         "Low",
         "T1a",
         "N0",
         "M0",
         "I",
         "Indeterminate",
         "No"
        ],
        [
         "1",
         "34",
         "F",
         "No",
         "Yes",
         "No",
         "Euthyroid",
         "Multinodular goiter",
         "No",
         "Micropapillary",
         "Uni-Focal",
         "Low",
         "T1a",
         "N0",
         "M0",
         "I",
         "Excellent",
         "No"
        ],
        [
         "2",
         "30",
         "F",
         "No",
         "No",
         "No",
         "Euthyroid",
         "Single nodular goiter-right",
         "No",
         "Micropapillary",
         "Uni-Focal",
         "Low",
         "T1a",
         "N0",
         "M0",
         "I",
         "Excellent",
         "No"
        ],
        [
         "3",
         "62",
         "F",
         "No",
         "No",
         "No",
         "Euthyroid",
         "Single nodular goiter-right",
         "No",
         "Micropapillary",
         "Uni-Focal",
         "Low",
         "T1a",
         "N0",
         "M0",
         "I",
         "Excellent",
         "No"
        ],
        [
         "4",
         "62",
         "F",
         "No",
         "No",
         "No",
         "Euthyroid",
         "Multinodular goiter",
         "No",
         "Micropapillary",
         "Multi-Focal",
         "Low",
         "T1a",
         "N0",
         "M0",
         "I",
         "Excellent",
         "No"
        ]
       ],
       "shape": {
        "columns": 17,
        "rows": 5
       }
      },
      "text/html": [
       "<div>\n",
       "<style scoped>\n",
       "    .dataframe tbody tr th:only-of-type {\n",
       "        vertical-align: middle;\n",
       "    }\n",
       "\n",
       "    .dataframe tbody tr th {\n",
       "        vertical-align: top;\n",
       "    }\n",
       "\n",
       "    .dataframe thead th {\n",
       "        text-align: right;\n",
       "    }\n",
       "</style>\n",
       "<table border=\"1\" class=\"dataframe\">\n",
       "  <thead>\n",
       "    <tr style=\"text-align: right;\">\n",
       "      <th></th>\n",
       "      <th>Age</th>\n",
       "      <th>Gender</th>\n",
       "      <th>Smoking</th>\n",
       "      <th>Hx Smoking</th>\n",
       "      <th>Hx Radiothreapy</th>\n",
       "      <th>Thyroid Function</th>\n",
       "      <th>Physical Examination</th>\n",
       "      <th>Adenopathy</th>\n",
       "      <th>Pathology</th>\n",
       "      <th>Focality</th>\n",
       "      <th>Risk</th>\n",
       "      <th>T</th>\n",
       "      <th>N</th>\n",
       "      <th>M</th>\n",
       "      <th>Stage</th>\n",
       "      <th>Response</th>\n",
       "      <th>Recurred</th>\n",
       "    </tr>\n",
       "  </thead>\n",
       "  <tbody>\n",
       "    <tr>\n",
       "      <th>0</th>\n",
       "      <td>27</td>\n",
       "      <td>F</td>\n",
       "      <td>No</td>\n",
       "      <td>No</td>\n",
       "      <td>No</td>\n",
       "      <td>Euthyroid</td>\n",
       "      <td>Single nodular goiter-left</td>\n",
       "      <td>No</td>\n",
       "      <td>Micropapillary</td>\n",
       "      <td>Uni-Focal</td>\n",
       "      <td>Low</td>\n",
       "      <td>T1a</td>\n",
       "      <td>N0</td>\n",
       "      <td>M0</td>\n",
       "      <td>I</td>\n",
       "      <td>Indeterminate</td>\n",
       "      <td>No</td>\n",
       "    </tr>\n",
       "    <tr>\n",
       "      <th>1</th>\n",
       "      <td>34</td>\n",
       "      <td>F</td>\n",
       "      <td>No</td>\n",
       "      <td>Yes</td>\n",
       "      <td>No</td>\n",
       "      <td>Euthyroid</td>\n",
       "      <td>Multinodular goiter</td>\n",
       "      <td>No</td>\n",
       "      <td>Micropapillary</td>\n",
       "      <td>Uni-Focal</td>\n",
       "      <td>Low</td>\n",
       "      <td>T1a</td>\n",
       "      <td>N0</td>\n",
       "      <td>M0</td>\n",
       "      <td>I</td>\n",
       "      <td>Excellent</td>\n",
       "      <td>No</td>\n",
       "    </tr>\n",
       "    <tr>\n",
       "      <th>2</th>\n",
       "      <td>30</td>\n",
       "      <td>F</td>\n",
       "      <td>No</td>\n",
       "      <td>No</td>\n",
       "      <td>No</td>\n",
       "      <td>Euthyroid</td>\n",
       "      <td>Single nodular goiter-right</td>\n",
       "      <td>No</td>\n",
       "      <td>Micropapillary</td>\n",
       "      <td>Uni-Focal</td>\n",
       "      <td>Low</td>\n",
       "      <td>T1a</td>\n",
       "      <td>N0</td>\n",
       "      <td>M0</td>\n",
       "      <td>I</td>\n",
       "      <td>Excellent</td>\n",
       "      <td>No</td>\n",
       "    </tr>\n",
       "    <tr>\n",
       "      <th>3</th>\n",
       "      <td>62</td>\n",
       "      <td>F</td>\n",
       "      <td>No</td>\n",
       "      <td>No</td>\n",
       "      <td>No</td>\n",
       "      <td>Euthyroid</td>\n",
       "      <td>Single nodular goiter-right</td>\n",
       "      <td>No</td>\n",
       "      <td>Micropapillary</td>\n",
       "      <td>Uni-Focal</td>\n",
       "      <td>Low</td>\n",
       "      <td>T1a</td>\n",
       "      <td>N0</td>\n",
       "      <td>M0</td>\n",
       "      <td>I</td>\n",
       "      <td>Excellent</td>\n",
       "      <td>No</td>\n",
       "    </tr>\n",
       "    <tr>\n",
       "      <th>4</th>\n",
       "      <td>62</td>\n",
       "      <td>F</td>\n",
       "      <td>No</td>\n",
       "      <td>No</td>\n",
       "      <td>No</td>\n",
       "      <td>Euthyroid</td>\n",
       "      <td>Multinodular goiter</td>\n",
       "      <td>No</td>\n",
       "      <td>Micropapillary</td>\n",
       "      <td>Multi-Focal</td>\n",
       "      <td>Low</td>\n",
       "      <td>T1a</td>\n",
       "      <td>N0</td>\n",
       "      <td>M0</td>\n",
       "      <td>I</td>\n",
       "      <td>Excellent</td>\n",
       "      <td>No</td>\n",
       "    </tr>\n",
       "  </tbody>\n",
       "</table>\n",
       "</div>"
      ],
      "text/plain": [
       "   Age Gender Smoking Hx Smoking Hx Radiothreapy Thyroid Function  \\\n",
       "0   27      F      No         No              No        Euthyroid   \n",
       "1   34      F      No        Yes              No        Euthyroid   \n",
       "2   30      F      No         No              No        Euthyroid   \n",
       "3   62      F      No         No              No        Euthyroid   \n",
       "4   62      F      No         No              No        Euthyroid   \n",
       "\n",
       "          Physical Examination Adenopathy       Pathology     Focality Risk  \\\n",
       "0   Single nodular goiter-left         No  Micropapillary    Uni-Focal  Low   \n",
       "1          Multinodular goiter         No  Micropapillary    Uni-Focal  Low   \n",
       "2  Single nodular goiter-right         No  Micropapillary    Uni-Focal  Low   \n",
       "3  Single nodular goiter-right         No  Micropapillary    Uni-Focal  Low   \n",
       "4          Multinodular goiter         No  Micropapillary  Multi-Focal  Low   \n",
       "\n",
       "     T   N   M Stage       Response Recurred  \n",
       "0  T1a  N0  M0     I  Indeterminate       No  \n",
       "1  T1a  N0  M0     I      Excellent       No  \n",
       "2  T1a  N0  M0     I      Excellent       No  \n",
       "3  T1a  N0  M0     I      Excellent       No  \n",
       "4  T1a  N0  M0     I      Excellent       No  "
      ]
     },
     "execution_count": 45,
     "metadata": {},
     "output_type": "execute_result"
    }
   ],
   "source": [
    "df.head()"
   ]
  },
  {
   "cell_type": "code",
   "execution_count": 34,
   "id": "7bf39dd4",
   "metadata": {},
   "outputs": [
    {
     "name": "stdout",
     "output_type": "stream",
     "text": [
      "<class 'pandas.core.frame.DataFrame'>\n",
      "RangeIndex: 383 entries, 0 to 382\n",
      "Data columns (total 17 columns):\n",
      " #   Column                Non-Null Count  Dtype \n",
      "---  ------                --------------  ----- \n",
      " 0   Age                   383 non-null    int64 \n",
      " 1   Gender                383 non-null    object\n",
      " 2   Smoking               383 non-null    object\n",
      " 3   Hx Smoking            383 non-null    object\n",
      " 4   Hx Radiothreapy       383 non-null    object\n",
      " 5   Thyroid Function      383 non-null    object\n",
      " 6   Physical Examination  383 non-null    object\n",
      " 7   Adenopathy            383 non-null    object\n",
      " 8   Pathology             383 non-null    object\n",
      " 9   Focality              383 non-null    object\n",
      " 10  Risk                  383 non-null    object\n",
      " 11  T                     383 non-null    object\n",
      " 12  N                     383 non-null    object\n",
      " 13  M                     383 non-null    object\n",
      " 14  Stage                 383 non-null    object\n",
      " 15  Response              383 non-null    object\n",
      " 16  Recurred              383 non-null    object\n",
      "dtypes: int64(1), object(16)\n",
      "memory usage: 51.0+ KB\n"
     ]
    }
   ],
   "source": [
    "df.info()"
   ]
  },
  {
   "cell_type": "code",
   "execution_count": 35,
   "id": "0a1bc84b",
   "metadata": {},
   "outputs": [
    {
     "data": {
      "application/vnd.microsoft.datawrangler.viewer.v0+json": {
       "columns": [
        {
         "name": "index",
         "rawType": "object",
         "type": "string"
        },
        {
         "name": "Age",
         "rawType": "float64",
         "type": "float"
        }
       ],
       "ref": "b98ef3c2-2527-4496-9d11-e1069fcf0f68",
       "rows": [
        [
         "count",
         "383.0"
        ],
        [
         "mean",
         "40.866840731070496"
        ],
        [
         "std",
         "15.134493807858814"
        ],
        [
         "min",
         "15.0"
        ],
        [
         "25%",
         "29.0"
        ],
        [
         "50%",
         "37.0"
        ],
        [
         "75%",
         "51.0"
        ],
        [
         "max",
         "82.0"
        ]
       ],
       "shape": {
        "columns": 1,
        "rows": 8
       }
      },
      "text/html": [
       "<div>\n",
       "<style scoped>\n",
       "    .dataframe tbody tr th:only-of-type {\n",
       "        vertical-align: middle;\n",
       "    }\n",
       "\n",
       "    .dataframe tbody tr th {\n",
       "        vertical-align: top;\n",
       "    }\n",
       "\n",
       "    .dataframe thead th {\n",
       "        text-align: right;\n",
       "    }\n",
       "</style>\n",
       "<table border=\"1\" class=\"dataframe\">\n",
       "  <thead>\n",
       "    <tr style=\"text-align: right;\">\n",
       "      <th></th>\n",
       "      <th>Age</th>\n",
       "    </tr>\n",
       "  </thead>\n",
       "  <tbody>\n",
       "    <tr>\n",
       "      <th>count</th>\n",
       "      <td>383.000000</td>\n",
       "    </tr>\n",
       "    <tr>\n",
       "      <th>mean</th>\n",
       "      <td>40.866841</td>\n",
       "    </tr>\n",
       "    <tr>\n",
       "      <th>std</th>\n",
       "      <td>15.134494</td>\n",
       "    </tr>\n",
       "    <tr>\n",
       "      <th>min</th>\n",
       "      <td>15.000000</td>\n",
       "    </tr>\n",
       "    <tr>\n",
       "      <th>25%</th>\n",
       "      <td>29.000000</td>\n",
       "    </tr>\n",
       "    <tr>\n",
       "      <th>50%</th>\n",
       "      <td>37.000000</td>\n",
       "    </tr>\n",
       "    <tr>\n",
       "      <th>75%</th>\n",
       "      <td>51.000000</td>\n",
       "    </tr>\n",
       "    <tr>\n",
       "      <th>max</th>\n",
       "      <td>82.000000</td>\n",
       "    </tr>\n",
       "  </tbody>\n",
       "</table>\n",
       "</div>"
      ],
      "text/plain": [
       "              Age\n",
       "count  383.000000\n",
       "mean    40.866841\n",
       "std     15.134494\n",
       "min     15.000000\n",
       "25%     29.000000\n",
       "50%     37.000000\n",
       "75%     51.000000\n",
       "max     82.000000"
      ]
     },
     "execution_count": 35,
     "metadata": {},
     "output_type": "execute_result"
    }
   ],
   "source": [
    "df.describe()"
   ]
  },
  {
   "cell_type": "code",
   "execution_count": null,
   "id": "1165a8ab",
   "metadata": {},
   "outputs": [],
   "source": [
    "df_encoded = df.copy()"
   ]
  },
  {
   "cell_type": "code",
   "execution_count": 46,
   "id": "9636b0a2",
   "metadata": {},
   "outputs": [],
   "source": [
    "recurred_map = {'No': 0, 'Yes': 1}\n",
    "df_encoded['Recurred'] = df_encoded['Recurred'].map(recurred_map)"
   ]
  },
  {
   "cell_type": "code",
   "execution_count": 38,
   "id": "27d3af58",
   "metadata": {},
   "outputs": [],
   "source": [
    "binary_cols = {\n",
    "    'Gender': {'F': 0, 'M': 1},\n",
    "    'Smoking': {'No': 0, 'Yes': 1},\n",
    "    'Hx Smoking': {'No': 0, 'Yes': 1},\n",
    "    'Hx Radiothreapy': {'No': 0, 'Yes': 1},\n",
    "    'Focality': {'Uni-Focal': 0, 'Multi-Focal': 1} # Uni-focal tek odaklı, Multi-focal çok odaklı\n",
    "}"
   ]
  },
  {
   "cell_type": "code",
   "execution_count": 39,
   "id": "a32dcd5a",
   "metadata": {},
   "outputs": [
    {
     "name": "stdout",
     "output_type": "stream",
     "text": [
      "'Gender' sütunu dönüştürüldü.\n",
      "'Smoking' sütunu dönüştürüldü.\n",
      "'Hx Smoking' sütunu dönüştürüldü.\n",
      "'Hx Radiothreapy' sütunu dönüştürüldü.\n",
      "'Focality' sütunu dönüştürüldü.\n"
     ]
    }
   ],
   "source": [
    "for col, mapping in binary_cols.items():\n",
    "    df_encoded[col] = df_encoded[col].map(mapping)\n",
    "    print(f\"'{col}' sütunu dönüştürüldü.\")"
   ]
  },
  {
   "cell_type": "code",
   "execution_count": 40,
   "id": "6f181db1",
   "metadata": {},
   "outputs": [
    {
     "name": "stdout",
     "output_type": "stream",
     "text": [
      "'Risk' sütunu dönüştürüldü (Low:0, Intermediate:1, High:2).\n",
      "'Response' sütunu dönüştürüldü.\n"
     ]
    }
   ],
   "source": [
    "risk_map = {'Low': 0, 'Intermediate': 1, 'High': 2}\n",
    "df_encoded['Risk'] = df_encoded['Risk'].map(risk_map)\n",
    "print(\"'Risk' sütunu dönüştürüldü (Low:0, Intermediate:1, High:2).\")\n",
    "\n",
    "# Tedaviye Yanıt\n",
    "response_map = {'Indeterminate': 0, 'Excellent': 1, 'Structural Incomplete': 2, 'Biochemical Incomplete': 3}\n",
    "df_encoded['Response'] = df_encoded['Response'].map(response_map)\n",
    "print(\"'Response' sütunu dönüştürüldü.\")"
   ]
  },
  {
   "cell_type": "code",
   "execution_count": 41,
   "id": "6e0f138c",
   "metadata": {},
   "outputs": [],
   "source": [
    "cols_to_one_hot = [\n",
    "    'Thyroid Function',\n",
    "    'Physical Examination',\n",
    "    'Adenopathy',\n",
    "    'Pathology',\n",
    "    'T',\n",
    "    'N',\n",
    "    'M',\n",
    "    'Stage'\n",
    "]"
   ]
  },
  {
   "cell_type": "code",
   "execution_count": 42,
   "id": "ddd63275",
   "metadata": {},
   "outputs": [],
   "source": [
    "df_encoded = pd.get_dummies(df_encoded, columns=cols_to_one_hot, drop_first=True, dtype=int)"
   ]
  },
  {
   "cell_type": "code",
   "execution_count": 43,
   "id": "74bc1ef8",
   "metadata": {},
   "outputs": [
    {
     "data": {
      "application/vnd.microsoft.datawrangler.viewer.v0+json": {
       "columns": [
        {
         "name": "index",
         "rawType": "int64",
         "type": "integer"
        },
        {
         "name": "Age",
         "rawType": "int64",
         "type": "integer"
        },
        {
         "name": "Gender",
         "rawType": "int64",
         "type": "integer"
        },
        {
         "name": "Smoking",
         "rawType": "int64",
         "type": "integer"
        },
        {
         "name": "Hx Smoking",
         "rawType": "int64",
         "type": "integer"
        },
        {
         "name": "Hx Radiothreapy",
         "rawType": "int64",
         "type": "integer"
        },
        {
         "name": "Focality",
         "rawType": "int64",
         "type": "integer"
        },
        {
         "name": "Risk",
         "rawType": "int64",
         "type": "integer"
        },
        {
         "name": "Response",
         "rawType": "int64",
         "type": "integer"
        },
        {
         "name": "Recurred",
         "rawType": "int64",
         "type": "integer"
        },
        {
         "name": "Thyroid Function_Clinical Hypothyroidism",
         "rawType": "int64",
         "type": "integer"
        },
        {
         "name": "Thyroid Function_Euthyroid",
         "rawType": "int64",
         "type": "integer"
        },
        {
         "name": "Thyroid Function_Subclinical Hyperthyroidism",
         "rawType": "int64",
         "type": "integer"
        },
        {
         "name": "Thyroid Function_Subclinical Hypothyroidism",
         "rawType": "int64",
         "type": "integer"
        },
        {
         "name": "Physical Examination_Multinodular goiter",
         "rawType": "int64",
         "type": "integer"
        },
        {
         "name": "Physical Examination_Normal",
         "rawType": "int64",
         "type": "integer"
        },
        {
         "name": "Physical Examination_Single nodular goiter-left",
         "rawType": "int64",
         "type": "integer"
        },
        {
         "name": "Physical Examination_Single nodular goiter-right",
         "rawType": "int64",
         "type": "integer"
        },
        {
         "name": "Adenopathy_Extensive",
         "rawType": "int64",
         "type": "integer"
        },
        {
         "name": "Adenopathy_Left",
         "rawType": "int64",
         "type": "integer"
        },
        {
         "name": "Adenopathy_No",
         "rawType": "int64",
         "type": "integer"
        },
        {
         "name": "Adenopathy_Posterior",
         "rawType": "int64",
         "type": "integer"
        },
        {
         "name": "Adenopathy_Right",
         "rawType": "int64",
         "type": "integer"
        },
        {
         "name": "Pathology_Hurthel cell",
         "rawType": "int64",
         "type": "integer"
        },
        {
         "name": "Pathology_Micropapillary",
         "rawType": "int64",
         "type": "integer"
        },
        {
         "name": "Pathology_Papillary",
         "rawType": "int64",
         "type": "integer"
        },
        {
         "name": "T_T1b",
         "rawType": "int64",
         "type": "integer"
        },
        {
         "name": "T_T2",
         "rawType": "int64",
         "type": "integer"
        },
        {
         "name": "T_T3a",
         "rawType": "int64",
         "type": "integer"
        },
        {
         "name": "T_T3b",
         "rawType": "int64",
         "type": "integer"
        },
        {
         "name": "T_T4a",
         "rawType": "int64",
         "type": "integer"
        },
        {
         "name": "T_T4b",
         "rawType": "int64",
         "type": "integer"
        },
        {
         "name": "N_N1a",
         "rawType": "int64",
         "type": "integer"
        },
        {
         "name": "N_N1b",
         "rawType": "int64",
         "type": "integer"
        },
        {
         "name": "M_M1",
         "rawType": "int64",
         "type": "integer"
        },
        {
         "name": "Stage_II",
         "rawType": "int64",
         "type": "integer"
        },
        {
         "name": "Stage_III",
         "rawType": "int64",
         "type": "integer"
        },
        {
         "name": "Stage_IVA",
         "rawType": "int64",
         "type": "integer"
        },
        {
         "name": "Stage_IVB",
         "rawType": "int64",
         "type": "integer"
        }
       ],
       "ref": "5a919b94-1a21-4724-be16-baa939eaf6a5",
       "rows": [
        [
         "0",
         "27",
         "0",
         "0",
         "0",
         "0",
         "0",
         "0",
         "0",
         "0",
         "0",
         "1",
         "0",
         "0",
         "0",
         "0",
         "1",
         "0",
         "0",
         "0",
         "1",
         "0",
         "0",
         "0",
         "1",
         "0",
         "0",
         "0",
         "0",
         "0",
         "0",
         "0",
         "0",
         "0",
         "0",
         "0",
         "0",
         "0",
         "0"
        ],
        [
         "1",
         "34",
         "0",
         "0",
         "1",
         "0",
         "0",
         "0",
         "1",
         "0",
         "0",
         "1",
         "0",
         "0",
         "1",
         "0",
         "0",
         "0",
         "0",
         "0",
         "1",
         "0",
         "0",
         "0",
         "1",
         "0",
         "0",
         "0",
         "0",
         "0",
         "0",
         "0",
         "0",
         "0",
         "0",
         "0",
         "0",
         "0",
         "0"
        ],
        [
         "2",
         "30",
         "0",
         "0",
         "0",
         "0",
         "0",
         "0",
         "1",
         "0",
         "0",
         "1",
         "0",
         "0",
         "0",
         "0",
         "0",
         "1",
         "0",
         "0",
         "1",
         "0",
         "0",
         "0",
         "1",
         "0",
         "0",
         "0",
         "0",
         "0",
         "0",
         "0",
         "0",
         "0",
         "0",
         "0",
         "0",
         "0",
         "0"
        ],
        [
         "3",
         "62",
         "0",
         "0",
         "0",
         "0",
         "0",
         "0",
         "1",
         "0",
         "0",
         "1",
         "0",
         "0",
         "0",
         "0",
         "0",
         "1",
         "0",
         "0",
         "1",
         "0",
         "0",
         "0",
         "1",
         "0",
         "0",
         "0",
         "0",
         "0",
         "0",
         "0",
         "0",
         "0",
         "0",
         "0",
         "0",
         "0",
         "0"
        ],
        [
         "4",
         "62",
         "0",
         "0",
         "0",
         "0",
         "1",
         "0",
         "1",
         "0",
         "0",
         "1",
         "0",
         "0",
         "1",
         "0",
         "0",
         "0",
         "0",
         "0",
         "1",
         "0",
         "0",
         "0",
         "1",
         "0",
         "0",
         "0",
         "0",
         "0",
         "0",
         "0",
         "0",
         "0",
         "0",
         "0",
         "0",
         "0",
         "0"
        ]
       ],
       "shape": {
        "columns": 38,
        "rows": 5
       }
      },
      "text/html": [
       "<div>\n",
       "<style scoped>\n",
       "    .dataframe tbody tr th:only-of-type {\n",
       "        vertical-align: middle;\n",
       "    }\n",
       "\n",
       "    .dataframe tbody tr th {\n",
       "        vertical-align: top;\n",
       "    }\n",
       "\n",
       "    .dataframe thead th {\n",
       "        text-align: right;\n",
       "    }\n",
       "</style>\n",
       "<table border=\"1\" class=\"dataframe\">\n",
       "  <thead>\n",
       "    <tr style=\"text-align: right;\">\n",
       "      <th></th>\n",
       "      <th>Age</th>\n",
       "      <th>Gender</th>\n",
       "      <th>Smoking</th>\n",
       "      <th>Hx Smoking</th>\n",
       "      <th>Hx Radiothreapy</th>\n",
       "      <th>Focality</th>\n",
       "      <th>Risk</th>\n",
       "      <th>Response</th>\n",
       "      <th>Recurred</th>\n",
       "      <th>Thyroid Function_Clinical Hypothyroidism</th>\n",
       "      <th>...</th>\n",
       "      <th>T_T3b</th>\n",
       "      <th>T_T4a</th>\n",
       "      <th>T_T4b</th>\n",
       "      <th>N_N1a</th>\n",
       "      <th>N_N1b</th>\n",
       "      <th>M_M1</th>\n",
       "      <th>Stage_II</th>\n",
       "      <th>Stage_III</th>\n",
       "      <th>Stage_IVA</th>\n",
       "      <th>Stage_IVB</th>\n",
       "    </tr>\n",
       "  </thead>\n",
       "  <tbody>\n",
       "    <tr>\n",
       "      <th>0</th>\n",
       "      <td>27</td>\n",
       "      <td>0</td>\n",
       "      <td>0</td>\n",
       "      <td>0</td>\n",
       "      <td>0</td>\n",
       "      <td>0</td>\n",
       "      <td>0</td>\n",
       "      <td>0</td>\n",
       "      <td>0</td>\n",
       "      <td>0</td>\n",
       "      <td>...</td>\n",
       "      <td>0</td>\n",
       "      <td>0</td>\n",
       "      <td>0</td>\n",
       "      <td>0</td>\n",
       "      <td>0</td>\n",
       "      <td>0</td>\n",
       "      <td>0</td>\n",
       "      <td>0</td>\n",
       "      <td>0</td>\n",
       "      <td>0</td>\n",
       "    </tr>\n",
       "    <tr>\n",
       "      <th>1</th>\n",
       "      <td>34</td>\n",
       "      <td>0</td>\n",
       "      <td>0</td>\n",
       "      <td>1</td>\n",
       "      <td>0</td>\n",
       "      <td>0</td>\n",
       "      <td>0</td>\n",
       "      <td>1</td>\n",
       "      <td>0</td>\n",
       "      <td>0</td>\n",
       "      <td>...</td>\n",
       "      <td>0</td>\n",
       "      <td>0</td>\n",
       "      <td>0</td>\n",
       "      <td>0</td>\n",
       "      <td>0</td>\n",
       "      <td>0</td>\n",
       "      <td>0</td>\n",
       "      <td>0</td>\n",
       "      <td>0</td>\n",
       "      <td>0</td>\n",
       "    </tr>\n",
       "    <tr>\n",
       "      <th>2</th>\n",
       "      <td>30</td>\n",
       "      <td>0</td>\n",
       "      <td>0</td>\n",
       "      <td>0</td>\n",
       "      <td>0</td>\n",
       "      <td>0</td>\n",
       "      <td>0</td>\n",
       "      <td>1</td>\n",
       "      <td>0</td>\n",
       "      <td>0</td>\n",
       "      <td>...</td>\n",
       "      <td>0</td>\n",
       "      <td>0</td>\n",
       "      <td>0</td>\n",
       "      <td>0</td>\n",
       "      <td>0</td>\n",
       "      <td>0</td>\n",
       "      <td>0</td>\n",
       "      <td>0</td>\n",
       "      <td>0</td>\n",
       "      <td>0</td>\n",
       "    </tr>\n",
       "    <tr>\n",
       "      <th>3</th>\n",
       "      <td>62</td>\n",
       "      <td>0</td>\n",
       "      <td>0</td>\n",
       "      <td>0</td>\n",
       "      <td>0</td>\n",
       "      <td>0</td>\n",
       "      <td>0</td>\n",
       "      <td>1</td>\n",
       "      <td>0</td>\n",
       "      <td>0</td>\n",
       "      <td>...</td>\n",
       "      <td>0</td>\n",
       "      <td>0</td>\n",
       "      <td>0</td>\n",
       "      <td>0</td>\n",
       "      <td>0</td>\n",
       "      <td>0</td>\n",
       "      <td>0</td>\n",
       "      <td>0</td>\n",
       "      <td>0</td>\n",
       "      <td>0</td>\n",
       "    </tr>\n",
       "    <tr>\n",
       "      <th>4</th>\n",
       "      <td>62</td>\n",
       "      <td>0</td>\n",
       "      <td>0</td>\n",
       "      <td>0</td>\n",
       "      <td>0</td>\n",
       "      <td>1</td>\n",
       "      <td>0</td>\n",
       "      <td>1</td>\n",
       "      <td>0</td>\n",
       "      <td>0</td>\n",
       "      <td>...</td>\n",
       "      <td>0</td>\n",
       "      <td>0</td>\n",
       "      <td>0</td>\n",
       "      <td>0</td>\n",
       "      <td>0</td>\n",
       "      <td>0</td>\n",
       "      <td>0</td>\n",
       "      <td>0</td>\n",
       "      <td>0</td>\n",
       "      <td>0</td>\n",
       "    </tr>\n",
       "  </tbody>\n",
       "</table>\n",
       "<p>5 rows × 38 columns</p>\n",
       "</div>"
      ],
      "text/plain": [
       "   Age  Gender  Smoking  Hx Smoking  Hx Radiothreapy  Focality  Risk  \\\n",
       "0   27       0        0           0                0         0     0   \n",
       "1   34       0        0           1                0         0     0   \n",
       "2   30       0        0           0                0         0     0   \n",
       "3   62       0        0           0                0         0     0   \n",
       "4   62       0        0           0                0         1     0   \n",
       "\n",
       "   Response  Recurred  Thyroid Function_Clinical Hypothyroidism  ...  T_T3b  \\\n",
       "0         0         0                                         0  ...      0   \n",
       "1         1         0                                         0  ...      0   \n",
       "2         1         0                                         0  ...      0   \n",
       "3         1         0                                         0  ...      0   \n",
       "4         1         0                                         0  ...      0   \n",
       "\n",
       "   T_T4a  T_T4b  N_N1a  N_N1b  M_M1  Stage_II  Stage_III  Stage_IVA  Stage_IVB  \n",
       "0      0      0      0      0     0         0          0          0          0  \n",
       "1      0      0      0      0     0         0          0          0          0  \n",
       "2      0      0      0      0     0         0          0          0          0  \n",
       "3      0      0      0      0     0         0          0          0          0  \n",
       "4      0      0      0      0     0         0          0          0          0  \n",
       "\n",
       "[5 rows x 38 columns]"
      ]
     },
     "execution_count": 43,
     "metadata": {},
     "output_type": "execute_result"
    }
   ],
   "source": [
    "df_encoded.head()"
   ]
  },
  {
   "cell_type": "code",
   "execution_count": 44,
   "id": "cf352242",
   "metadata": {},
   "outputs": [],
   "source": [
    "df_encoded.to_csv('Thyroid_Diff_Encoded.csv', index=False)"
   ]
  },
  {
   "cell_type": "code",
   "execution_count": null,
   "id": "f07ac8ef",
   "metadata": {},
   "outputs": [],
   "source": []
  },
  {
   "cell_type": "code",
   "execution_count": null,
   "id": "c37bce1d",
   "metadata": {},
   "outputs": [],
   "source": []
  }
 ],
 "metadata": {
  "kernelspec": {
   "display_name": "Python 3",
   "language": "python",
   "name": "python3"
  },
  "language_info": {
   "codemirror_mode": {
    "name": "ipython",
    "version": 3
   },
   "file_extension": ".py",
   "mimetype": "text/x-python",
   "name": "python",
   "nbconvert_exporter": "python",
   "pygments_lexer": "ipython3",
   "version": "3.12.8"
  }
 },
 "nbformat": 4,
 "nbformat_minor": 5
}
